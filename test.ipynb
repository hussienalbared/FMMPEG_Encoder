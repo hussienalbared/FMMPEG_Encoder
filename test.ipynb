{
 "cells": [
  {
   "cell_type": "code",
   "execution_count": null,
   "metadata": {},
   "outputs": [],
   "source": [
    "#!pip install ffmpeg-python\n",
    "!pip install tqdm\n",
    "!pip install Flask\n",
    "!pip install flask-cors\n",
    "!pip install flask-socketio\n",
    "\n"
   ]
  },
  {
   "cell_type": "code",
   "execution_count": null,
   "metadata": {},
   "outputs": [],
   "source": [
    "import subprocess\n",
    "import re\n",
    "from tqdm import tqdm\n",
    "\n",
    "def get_duration(input_file):\n",
    "    result = subprocess.run(\n",
    "        ['ffmpeg', '-i', input_file],\n",
    "        stderr=subprocess.PIPE,\n",
    "        stdout=subprocess.PIPE,\n",
    "        text=True\n",
    "    )\n",
    "    duration = re.search(r'Duration: (\\d+):(\\d+):(\\d+\\.\\d+)', result.stderr)\n",
    "    if duration:\n",
    "        hours, minutes, seconds = map(float, duration.groups())\n",
    "        return hours * 3600 + minutes * 60 + seconds\n",
    "    return None\n",
    "\n",
    "def encode_video(input_file, output_file, bitrate='1000k'):\n",
    "    total_duration = get_duration(input_file)\n",
    "    if total_duration is None:\n",
    "        print(\"Failed to get video duration.\")\n",
    "        return\n",
    "\n",
    "    command = [\n",
    "        'ffmpeg',\n",
    "        '-i', input_file,\n",
    "        '-c:v', 'libx264',\n",
    "        '-b:v', bitrate,\n",
    "        output_file,\n",
    "        '-y'  # Overwrite output file if it exists\n",
    "    ]\n",
    "    command= [\n",
    "        'ffmpeg',\n",
    "        '-i', input_file, '-vf', 'scale=1280:-1' ,'-c:v', 'libx264', \n",
    "        '-preset' ,'veryslow' ,'-crf', '24', output_file,'-y'\n",
    "    ]\n",
    "    \n",
    "    process = subprocess.Popen(command, shell=True, stdout=subprocess.PIPE, stderr=subprocess.STDOUT)\n",
    "    for line in process.stdout.readlines():\n",
    "        print(line)\n",
    "    retval = process.wait()\n",
    "\n",
    "    process.wait()\n",
    "    if process.returncode == 0:\n",
    "        print(f\"Video encoded successfully: {output_file}\")\n",
    "    else:\n",
    "        print(f\"Error occurred during encoding: {process.stderr.read()}\")\n",
    "\n",
    "# Example usage\n",
    "\n"
   ]
  },
  {
   "cell_type": "code",
   "execution_count": 5,
   "metadata": {},
   "outputs": [
    {
     "name": "stderr",
     "output_type": "stream",
     "text": [
      " 99%|█████████▉| 12.9/13.1 [00:04<00:00, 2.62s/s]"
     ]
    },
    {
     "name": "stdout",
     "output_type": "stream",
     "text": [
      "Video encoded successfully: output.mp4\n"
     ]
    },
    {
     "name": "stderr",
     "output_type": "stream",
     "text": [
      "\n"
     ]
    }
   ],
   "source": [
    "import subprocess\n",
    "import re\n",
    "from tqdm import tqdm\n",
    "\n",
    "def get_duration(input_file):\n",
    "    result = subprocess.run(\n",
    "        ['ffmpeg', '-i', input_file],\n",
    "        stderr=subprocess.PIPE,\n",
    "        stdout=subprocess.PIPE,\n",
    "        text=True\n",
    "    )\n",
    "    duration = re.search(r'Duration: (\\d+):(\\d+):(\\d+\\.\\d+)', result.stderr)\n",
    "    if duration:\n",
    "        hours, minutes, seconds = map(float, duration.groups())\n",
    "        return hours * 3600 + minutes * 60 + seconds\n",
    "    return None\n",
    "\n",
    "def encode_video(input_file, output_file, bitrate='1000k'):\n",
    "    total_duration = get_duration(input_file)\n",
    "    if total_duration is None:\n",
    "        print(\"Failed to get video duration.\")\n",
    "        return\n",
    "\n",
    "    command= [\n",
    "        'ffmpeg',\n",
    "        '-i', input_file, '-vf', 'scale=1280:-1' ,'-c:v', 'libx264', \n",
    "        '-preset' ,'veryslow' ,'-crf', '24', output_video,'-y'\n",
    "    ]\n",
    "    \n",
    "    process = subprocess.Popen(command, stderr=subprocess.PIPE, stdout=subprocess.PIPE, text=True)\n",
    "    pattern = re.compile(r'time=(\\d+):(\\d+):(\\d+\\.\\d+)')\n",
    "\n",
    "    with tqdm(total=total_duration, unit='s', unit_scale=True, dynamic_ncols=True) as pbar:\n",
    "        for line in process.stderr:\n",
    "            match = pattern.search(line)\n",
    "            if match:\n",
    "                hours, minutes, seconds = map(float, match.groups())\n",
    "                current_time = hours * 3600 + minutes * 60 + seconds\n",
    "                pbar.update(current_time - pbar.n)\n",
    "\n",
    "    process.wait()\n",
    "    if process.returncode == 0:\n",
    "        print(f\"Video encoded successfully: {output_file}\")\n",
    "    else:\n",
    "        print(f\"Error occurred during encoding: {process.stderr.read()}\")\n",
    "\n",
    "# Example usage\n",
    "input_video = r'C:/Users/hussi/OneDrive/Desktop/Interview/nasa.mp4'\n",
    "output_video = r'output.mp4'\n",
    "encode_video(input_video, output_video)\n"
   ]
  }
 ],
 "metadata": {
  "kernelspec": {
   "display_name": "Python 3",
   "language": "python",
   "name": "python3"
  },
  "language_info": {
   "codemirror_mode": {
    "name": "ipython",
    "version": 3
   },
   "file_extension": ".py",
   "mimetype": "text/x-python",
   "name": "python",
   "nbconvert_exporter": "python",
   "pygments_lexer": "ipython3",
   "version": "3.11.9"
  }
 },
 "nbformat": 4,
 "nbformat_minor": 2
}
